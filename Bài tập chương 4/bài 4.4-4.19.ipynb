{
 "cells": [
  {
   "cell_type": "code",
   "execution_count": 2,
   "metadata": {},
   "outputs": [],
   "source": [
    "import pandas as pd \n",
    "import numpy as np "
   ]
  },
  {
   "cell_type": "code",
   "execution_count": 2,
   "metadata": {},
   "outputs": [
    {
     "name": "stdout",
     "output_type": "stream",
     "text": [
      "Kết quả yêu cầu 1:\n",
      "0    1\n",
      "1    2\n",
      "2    3\n",
      "dtype: int64\n",
      "Kết quả yêu cầu 2:\n",
      "0    1\n",
      "1    2\n",
      "2    3\n",
      "3    6\n",
      "4    7\n",
      "5    8\n",
      "dtype: int64\n"
     ]
    }
   ],
   "source": [
    "# Bài 4.4\n",
    "import pandas as pd \n",
    "import numpy as np \n",
    "\n",
    "ser1=pd.Series([1,2,3,4,5])\n",
    "ser2=pd.Series([4,5,6,7,8])\n",
    "\n",
    "# từ ser1 hãy xóa các mục có mặt trong ser2\n",
    "result1 = pd.Series(list(set(ser1) - set(ser2)))\n",
    "print(\"Kết quả yêu cầu 1:\")\n",
    "print(result1)\n",
    "\n",
    "# Lấy tất cả các mục của ser1 và ser2 những không nằm trong cả hai\n",
    "result2 = pd.Series(list(set(ser1).symmetric_difference(set(ser2))))\n",
    "print(\"Kết quả yêu cầu 2:\")\n",
    "print(result2)\n"
   ]
  },
  {
   "cell_type": "code",
   "execution_count": 9,
   "metadata": {},
   "outputs": [
    {
     "name": "stdout",
     "output_type": "stream",
     "text": [
      "Giá trị tối thiểu: -2.7726139496154616\n",
      "Phần Centile thứ 25: 5.642978464469744\n",
      "Trung vị: 8.877415572099908\n",
      "Phần Centile thứ 75: 10.919785129080262\n",
      "Giá trị tối đa: 21.316886060313692\n"
     ]
    }
   ],
   "source": [
    "# Bài 4.5\n",
    "import pandas as pd\n",
    "import numpy as np\n",
    "\n",
    "ser=pd.Series(np.random.normal(10,5,25))\n",
    "import pandas as pd\n",
    "import numpy as np\n",
    "\n",
    "# Tạo Series ngẫu nhiên từ phân phối chuẩn\n",
    "ser = pd.Series(np.random.normal(10, 5, 25))\n",
    "\n",
    "# 1. Giá trị tối thiểu (minimum) của ser\n",
    "min_value = ser.min()\n",
    "\n",
    "# 2. Phần Centile thứ 25 (25th percentile) của ser\n",
    "percentile_25 = ser.quantile(0.25)\n",
    "\n",
    "# 3. Trung vị (Median) của ser\n",
    "median_value = ser.median()\n",
    "\n",
    "# 4. Phần Centile thứ 75 (75th percentile) của ser\n",
    "percentile_75 = ser.quantile(0.75)\n",
    "\n",
    "# 5. Giá trị tối đa (maximum) của ser\n",
    "max_value = ser.max()\n",
    "\n",
    "# In các giá trị kết quả\n",
    "print(f\"Giá trị tối thiểu: {min_value}\")\n",
    "print(f\"Phần Centile thứ 25: {percentile_25}\")\n",
    "print(f\"Trung vị: {median_value}\")\n",
    "print(f\"Phần Centile thứ 75: {percentile_75}\")\n",
    "print(f\"Giá trị tối đa: {max_value}\")\n",
    "\n"
   ]
  },
  {
   "cell_type": "code",
   "execution_count": 11,
   "metadata": {},
   "outputs": [
    {
     "name": "stdout",
     "output_type": "stream",
     "text": [
      "d    6\n",
      "b    6\n",
      "h    4\n",
      "g    4\n",
      "a    3\n",
      "c    3\n",
      "f    2\n",
      "e    2\n",
      "Name: count, dtype: int64\n"
     ]
    }
   ],
   "source": [
    "# Bài 4.6\n",
    "import pandas as pd\n",
    "import numpy as np\n",
    "ser=pd.Series(np.take(list('abcdefgh'),np.random.randint(8,size=30)))\n",
    "\"\"\"\n",
    "1. Giải thích ý nghĩa đoạn code \n",
    "np.take() được sử dụng để lấy các phần tử từ danh sách ['a', 'b', 'c', 'd', 'e', 'f', 'g', 'h'] theo các chỉ số được tạo ngẫu nhiên (từ np.random.randint(8, size=30)).\n",
    "Kết quả là một mảng gồm 30 ký tự, mỗi ký tự được chọn ngẫu nhiên từ danh sách.\n",
    "\n",
    "\"\"\"\n",
    "# 2. Tính số lần xuất hiện của mỗi giá trị duy nhất trong ser\n",
    "count_values = ser.value_counts()\n",
    "print(count_values)\n",
    "\n"
   ]
  },
  {
   "cell_type": "code",
   "execution_count": 13,
   "metadata": {},
   "outputs": [
    {
     "name": "stdout",
     "output_type": "stream",
     "text": [
      "0       4.0\n",
      "1     other\n",
      "2       1.0\n",
      "3       1.0\n",
      "4       4.0\n",
      "5       4.0\n",
      "6     other\n",
      "7     other\n",
      "8       1.0\n",
      "9     other\n",
      "10      4.0\n",
      "11      4.0\n",
      "dtype: object\n"
     ]
    }
   ],
   "source": [
    "# Bài 4.7\n",
    "import pandas as pd\n",
    "import numpy as np\n",
    "\n",
    "# Tạo Series ngẫu nhiên với các giá trị trong khoảng từ 1 đến 4\n",
    "np.random.RandomState(100)\n",
    "ser = pd.Series(np.random.randint(1, 5, [12]))\n",
    "\n",
    "# Đếm tần suất của các phần tử trong Series\n",
    "counts = ser.value_counts()\n",
    "\n",
    "# Lấy hai phần tử có tần suất cao nhất\n",
    "top_2 = counts.nlargest(2).index\n",
    "\n",
    "# Tạo một Series với giá trị 'other' cho tất cả các phần tử\n",
    "ser_result = pd.Series('other', index=ser.index)\n",
    "\n",
    "# Cập nhật các phần tử có tần suất cao nhất trong Series kết quả\n",
    "ser_result[ser.isin(top_2)] = ser[ser.isin(top_2)]\n",
    "\n",
    "# In kết quả\n",
    "print(ser_result)\n"
   ]
  },
  {
   "cell_type": "code",
   "execution_count": null,
   "metadata": {},
   "outputs": [],
   "source": [
    "# Bài 4.8\n",
    "\n",
    "import pandas as pd\n",
    "import numpy as np\n",
    "\n",
    "# Tạo Series ngẫu nhiên với 20 giá trị từ 0 đến 1\n",
    "np.random.seed(0)\n",
    "ser = pd.Series(np.random.random(20))\n",
    "\n",
    "# Sử dụng pd.qcut để chia thành 10 phân vị và gán tên phân vị\n",
    "ser_deciles = pd.qcut(ser, 10, labels=[f'Q{i+1}' for i in range(10)])\n",
    "\n",
    "# In kết quả\n",
    "print(ser_deciles)\n",
    "\n"
   ]
  },
  {
   "cell_type": "code",
   "execution_count": 14,
   "metadata": {},
   "outputs": [
    {
     "data": {
      "text/html": [
       "<div>\n",
       "<style scoped>\n",
       "    .dataframe tbody tr th:only-of-type {\n",
       "        vertical-align: middle;\n",
       "    }\n",
       "\n",
       "    .dataframe tbody tr th {\n",
       "        vertical-align: top;\n",
       "    }\n",
       "\n",
       "    .dataframe thead th {\n",
       "        text-align: right;\n",
       "    }\n",
       "</style>\n",
       "<table border=\"1\" class=\"dataframe\">\n",
       "  <thead>\n",
       "    <tr style=\"text-align: right;\">\n",
       "      <th></th>\n",
       "      <th>0</th>\n",
       "      <th>1</th>\n",
       "      <th>2</th>\n",
       "      <th>3</th>\n",
       "      <th>4</th>\n",
       "    </tr>\n",
       "  </thead>\n",
       "  <tbody>\n",
       "    <tr>\n",
       "      <th>0</th>\n",
       "      <td>9</td>\n",
       "      <td>8</td>\n",
       "      <td>5</td>\n",
       "      <td>7</td>\n",
       "      <td>8</td>\n",
       "    </tr>\n",
       "    <tr>\n",
       "      <th>1</th>\n",
       "      <td>7</td>\n",
       "      <td>9</td>\n",
       "      <td>1</td>\n",
       "      <td>5</td>\n",
       "      <td>3</td>\n",
       "    </tr>\n",
       "    <tr>\n",
       "      <th>2</th>\n",
       "      <td>6</td>\n",
       "      <td>6</td>\n",
       "      <td>6</td>\n",
       "      <td>3</td>\n",
       "      <td>3</td>\n",
       "    </tr>\n",
       "    <tr>\n",
       "      <th>3</th>\n",
       "      <td>4</td>\n",
       "      <td>1</td>\n",
       "      <td>6</td>\n",
       "      <td>4</td>\n",
       "      <td>5</td>\n",
       "    </tr>\n",
       "    <tr>\n",
       "      <th>4</th>\n",
       "      <td>4</td>\n",
       "      <td>7</td>\n",
       "      <td>8</td>\n",
       "      <td>7</td>\n",
       "      <td>6</td>\n",
       "    </tr>\n",
       "    <tr>\n",
       "      <th>5</th>\n",
       "      <td>8</td>\n",
       "      <td>6</td>\n",
       "      <td>1</td>\n",
       "      <td>8</td>\n",
       "      <td>6</td>\n",
       "    </tr>\n",
       "    <tr>\n",
       "      <th>6</th>\n",
       "      <td>1</td>\n",
       "      <td>7</td>\n",
       "      <td>8</td>\n",
       "      <td>3</td>\n",
       "      <td>1</td>\n",
       "    </tr>\n",
       "  </tbody>\n",
       "</table>\n",
       "</div>"
      ],
      "text/plain": [
       "   0  1  2  3  4\n",
       "0  9  8  5  7  8\n",
       "1  7  9  1  5  3\n",
       "2  6  6  6  3  3\n",
       "3  4  1  6  4  5\n",
       "4  4  7  8  7  6\n",
       "5  8  6  1  8  6\n",
       "6  1  7  8  3  1"
      ]
     },
     "execution_count": 14,
     "metadata": {},
     "output_type": "execute_result"
    }
   ],
   "source": [
    "# Bài 4.9\n",
    "ser=pd.Series(np.random.randint(1,10,35))\n",
    "\n",
    "\"\"\" 1. Giải thích đoạn code \n",
    "Sử dụng NumPy để tạo một mảng ngẫu nhiên gồm 35 giá trị nguyên, \n",
    "trong đó mỗi giá trị là một số nguyên được chọn ngẫu nhiên từ khoảng từ 1 đến 9 (bao gồm 1 và 9, không bao gồm 10).\n",
    "\n",
    "\"\"\"\n",
    "\n",
    "# 2. Định hình lại ser thành một Dataframe với 7 Hàng 5 cột \n",
    "# Định hình lại thành DataFrame có 7 hàng và 5 cột\n",
    "df = pd.DataFrame(ser.values.reshape(7, 5))\n",
    "df\n",
    "\n"
   ]
  },
  {
   "cell_type": "code",
   "execution_count": 16,
   "metadata": {},
   "outputs": [
    {
     "name": "stdout",
     "output_type": "stream",
     "text": [
      "Series:\n",
      "0    6\n",
      "1    9\n",
      "2    3\n",
      "3    6\n",
      "4    3\n",
      "5    5\n",
      "6    6\n",
      "dtype: int32\n",
      "\n",
      "Vị trí các số là bội của 3: Index([0, 1, 2, 3, 4, 6], dtype='int64')\n"
     ]
    }
   ],
   "source": [
    "# Bài 4.10\n",
    "import pandas as pd\n",
    "import numpy as np\n",
    "\n",
    "# Tạo Series ngẫu nhiên với 7 giá trị nguyên từ 1 đến 9\n",
    "ser = pd.Series(np.random.randint(1, 10, 7))\n",
    "\n",
    "# Tìm vị trí các số là bội của 3\n",
    "positions = ser[ser % 3 == 0].index\n",
    "\n",
    "# In kết quả\n",
    "print(\"Series:\")\n",
    "print(ser)\n",
    "print(\"\\nVị trí các số là bội của 3:\", positions)\n"
   ]
  },
  {
   "cell_type": "code",
   "execution_count": 19,
   "metadata": {},
   "outputs": [
    {
     "data": {
      "text/plain": [
       "0     a\n",
       "4     e\n",
       "8     j\n",
       "14    p\n",
       "20    v\n",
       "dtype: object"
      ]
     },
     "execution_count": 19,
     "metadata": {},
     "output_type": "execute_result"
    }
   ],
   "source": [
    "# Bài 4.11\n",
    "import pandas as pd\n",
    "import numpy as np\n",
    "\n",
    "ser = pd.Series(list('abcdefghjklmnopqrstuvwxyz'))\n",
    "pos=[0,4,8,14,20]\n",
    "\n",
    "positions=ser[pos]\n",
    "positions"
   ]
  },
  {
   "cell_type": "code",
   "execution_count": 20,
   "metadata": {},
   "outputs": [
    {
     "name": "stdout",
     "output_type": "stream",
     "text": [
      "Vị trí các mục của ser2 trong ser1: [5, 4, 0, 8]\n"
     ]
    }
   ],
   "source": [
    "# Bài 4.13\n",
    "import pandas as pd\n",
    "import numpy as np\n",
    "\n",
    "ser1=pd.Series([10,9,6,5,3,1,12,8,13])\n",
    "ser2=pd.Series([1,3,10,13])\n",
    "\n",
    "positions = []  # Danh sách để lưu các vị trí\n",
    "\n",
    "for value in ser2:  # Duyệt qua từng phần tử trong ser2\n",
    "    # Tìm vị trí của phần tử trong ser1\n",
    "    position = ser1[ser1 == value].index[0]\n",
    "    positions.append(position) \n",
    "\n",
    "# In kết quả\n",
    "print(\"Vị trí các mục của ser2 trong ser1:\", positions)\n"
   ]
  },
  {
   "cell_type": "code",
   "execution_count": null,
   "metadata": {},
   "outputs": [
    {
     "data": {
      "text/plain": [
       "0    0\n",
       "1    1\n",
       "2    2\n",
       "3    3\n",
       "4    4\n",
       "5    a\n",
       "6    b\n",
       "7    c\n",
       "8    d\n",
       "9    e\n",
       "dtype: object"
      ]
     },
     "execution_count": 1,
     "metadata": {},
     "output_type": "execute_result"
    }
   ],
   "source": [
    "# Bài 4.12\n",
    "import pandas as pd\n",
    "import numpy as np\n",
    "\n",
    "# Khởi tạo Series\n",
    "ser1 = pd.Series(range(5))\n",
    "ser2 = pd.Series(list('abcde'))\n",
    "\n",
    "# Xếp chồng theo chiều dọc\n",
    "df = pd.concat([ser1, ser2], axis=0, ignore_index=True)\n",
    "df\n"
   ]
  },
  {
   "cell_type": "code",
   "execution_count": null,
   "metadata": {},
   "outputs": [],
   "source": [
    "# Bài 4.14\n",
    "import pandas as pd \n",
    "import numpy as np\n",
    "\n",
    "# Khởi tạo các chuỗi truth và pred\n",
    "truth = pd.Series(range(10))\n",
    "pred = pd.Series(range(10) + np.random.random(10))\n",
    "\n",
    "# Tính sai số bình phương trung bình \n",
    "mse = ((truth - pred) ** 2).mean()\n",
    "print(\"Sai số bình phương trung bình :\", mse)\n"
   ]
  },
  {
   "cell_type": "code",
   "execution_count": null,
   "metadata": {},
   "outputs": [],
   "source": [
    "# Bài 4.15\n",
    "import pandas as pd\n",
    "import numpy as np\n",
    "\n",
    "ser = pd.Series(['how', 'to', 'kick', 'ass'])\n",
    "\n",
    "# Chuyển ký tự đầu tiên của mỗi phần tử thành chữ hoa\n",
    "ser_capitalized = ser.str.capitalize()\n",
    "\n",
    "print(ser_capitalized)\n",
    "\n"
   ]
  },
  {
   "cell_type": "code",
   "execution_count": null,
   "metadata": {},
   "outputs": [],
   "source": [
    "# Bài 4.16\n",
    "import pandas as pd\n",
    "import numpy as np\n",
    "\n",
    "ser = pd.Series([1, 3, 6, 10, 15, 21, 27, 35])\n",
    "\n",
    "# Bước 1: Tính hiệu số giữa các phần tử liên tiếp\n",
    "diff_1 = ser.diff()\n",
    "\n",
    "# Bước 2: Tính hiệu số của các hiệu số (sự khác biệt giữa các giá trị trong diff_1)\n",
    "diff_2 = diff_1.diff()\n",
    "\n",
    "print(diff_2)\n",
    "\n"
   ]
  },
  {
   "cell_type": "code",
   "execution_count": null,
   "metadata": {},
   "outputs": [],
   "source": [
    "# Bài 4.17\n",
    "import pandas as pd\n",
    "\n",
    "# Dữ liệu đầu vào\n",
    "ser = pd.Series(['01 Jan 2010', '02-02-2011', '20120303', '2013/04/04', '2014-05-05', '2015-06-06T12:20'])\n",
    "\n",
    "# Chuyển đổi thành chuỗi thời gian\n",
    "ser = pd.to_datetime(ser)\n",
    "print(ser)"
   ]
  },
  {
   "cell_type": "code",
   "execution_count": null,
   "metadata": {},
   "outputs": [],
   "source": [
    "# Bài 4.18\n",
    "\n",
    "import pandas as pd\n",
    "\n",
    "# Dữ liệu đầu vào\n",
    "emails = pd.Series(['buying books at amazon.com', 'rameses@egypt.com', 'matt@t.co', 'narendra@modi.com'])\n",
    "pattern = r\"[A-Za-z0-9._%+-]+@[A-Za-z0-9.-]+\\.[A-Za-z]{2,4}\"\n",
    "\n",
    "# Lọc các email hợp lệ\n",
    "valid_emails = emails[emails.str.match(pattern)]\n",
    "print(valid_emails)\n"
   ]
  },
  {
   "cell_type": "code",
   "execution_count": null,
   "metadata": {},
   "outputs": [],
   "source": [
    "# Bài 4.19\n",
    "import pandas as pd\n",
    "import numpy as np\n",
    "\n",
    "# Dữ liệu đầu vào\n",
    "fruit = pd.Series(np.random.choice(['apple', 'banana', 'carrot'], 10))\n",
    "weights = pd.Series(np.linspace(1, 10, 10))\n",
    "\n",
    "# Tính khối lượng trung bình của từng loại trái cây\n",
    "tb_weights = weights.groupby(fruit).mean()\n",
    "print(tb_weights)"
   ]
  }
 ],
 "metadata": {
  "kernelspec": {
   "display_name": "Python 3",
   "language": "python",
   "name": "python3"
  },
  "language_info": {
   "codemirror_mode": {
    "name": "ipython",
    "version": 3
   },
   "file_extension": ".py",
   "mimetype": "text/x-python",
   "name": "python",
   "nbconvert_exporter": "python",
   "pygments_lexer": "ipython3",
   "version": "3.12.0"
  }
 },
 "nbformat": 4,
 "nbformat_minor": 2
}
